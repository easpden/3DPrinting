{
 "cells": [
  {
   "cell_type": "code",
   "execution_count": 15,
   "metadata": {},
   "outputs": [],
   "source": [
    "from solid import *\n",
    "from solid.utils import *\n",
    "import viewscad\n",
    "\n",
    "import numpy as np\n",
    "import matplotlib.pyplot as plt\n",
    "\n",
    "from ipywidgets import interact, interactive, fixed, interact_manual\n",
    "import ipywidgets as widgets"
   ]
  },
  {
   "cell_type": "code",
   "execution_count": 4,
   "metadata": {},
   "outputs": [
    {
     "data": {
      "image/png": "[encoded data removed]",
      "text/plain": [
       "<Figure size 432x288 with 1 Axes>"
      ]
     },
     "metadata": {},
     "output_type": "display_data"
    }
   ],
   "source": [
    "def w(l):\n",
    "    return -(((l-50)**2)/100) + 25\n",
    "\n",
    "x = np.linspace(0,100,100)\n",
    "plt.plot(x, w(x))\n",
    "plt.gca().set_aspect('equal', 'box')"
   ]
  },
  {
   "cell_type": "code",
   "execution_count": 6,
   "metadata": {},
   "outputs": [
    {
     "data": {
      "image/png": "[encoded data removed]",
      "text/plain": [
       "<Figure size 432x288 with 1 Axes>"
      ]
     },
     "metadata": {},
     "output_type": "display_data"
    }
   ],
   "source": [
    "res=100\n",
    "\n",
    "def meanW(l1,l2):\n",
    "    heights = np.linspace(l1,l2)\n",
    "    widths = w(heights)\n",
    "    return np.mean(widths)\n",
    "\n",
    "x = np.linspace(0,100,res)\n",
    "wid = [w(x[0])]\n",
    "i = 1\n",
    "while i < np.size(x):\n",
    "    j = meanW(x[i-1], x[i])\n",
    "    wid.append(j)\n",
    "    \n",
    "    i += 1\n",
    "    \n",
    "plt.plot(x,wid);"
   ]
  },
  {
   "cell_type": "code",
   "execution_count": 7,
   "metadata": {},
   "outputs": [
    {
     "data": {
      "application/vnd.jupyter.widget-view+json": {
       "model_id": "3ca7207332c145258cd80ecb4f5cf15e",
       "version_major": 2,
       "version_minor": 0
      },
      "text/plain": [
       "VBox(children=(HTML(value=''), Renderer(background='#cccc88', background_opacity=0.0, camera=PerspectiveCameraâ€¦"
      ]
     },
     "metadata": {},
     "output_type": "display_data"
    }
   ],
   "source": [
    "c = cube([2,3,4])\n",
    "r = viewscad.Renderer()\n",
    "r.render(c)"
   ]
  },
  {
   "cell_type": "code",
   "execution_count": null,
   "metadata": {},
   "outputs": [],
   "source": [
    "def resDemo(Layers=10):\n",
    "    height = 100\n",
    "\n",
    "    layerHeight = height / res\n",
    "\n",
    "    x = np.linspace(0,height,res)\n",
    "    wid = [w(x[0])]\n",
    "    i = 1\n",
    "    while i < np.size(x):\n",
    "        j = meanW(x[i-1], x[i])\n",
    "        wid.append(j)\n",
    "\n",
    "        i += 1\n",
    "\n",
    "    c = cube([0,0,0])\n",
    "\n",
    "    for layer, width in zip(x,wid):\n",
    "        c += up(layer)(cylinder(r=width, h=layerHeight, center=True))\n",
    "\n",
    "    r = viewscad.Renderer()\n",
    "    r.render(c)"
   ]
  },
  {
   "cell_type": "code",
   "execution_count": null,
   "metadata": {},
   "outputs": [],
   "source": [
    "interact(resDemo, Layers=(1,100))"
   ]
  },
  {
   "cell_type": "code",
   "execution_count": null,
   "metadata": {},
   "outputs": [],
   "source": []
  }
 ],
 "metadata": {
  "kernelspec": {
   "display_name": "Python 3",
   "language": "python",
   "name": "python3"
  },
  "language_info": {
   "codemirror_mode": {
    "name": "ipython",
    "version": 3
   },
   "file_extension": ".py",
   "mimetype": "text/x-python",
   "name": "python",
   "nbconvert_exporter": "python",
   "pygments_lexer": "ipython3",
   "version": "3.4.3"
  }
 },
 "nbformat": 4,
 "nbformat_minor": 2
}